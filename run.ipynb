{
 "cells": [
  {
   "cell_type": "markdown",
   "metadata": {},
   "source": [
    "FinanceManus:一个专注金融市场的通用Agent"
   ]
  },
  {
   "cell_type": "code",
   "execution_count": 1,
   "metadata": {},
   "outputs": [],
   "source": [
    "from openai import OpenAI, AsyncOpenAI\n",
    "\n",
    "client = AsyncOpenAI(\n",
    "    api_key=\"3c4e4714f441e94431840c49962803b3.YzhftyBY6f3rQAlS\",\n",
    "    base_url=\"https://open.bigmodel.cn/api/paas/v4/\"\n",
    ")"
   ]
  },
  {
   "cell_type": "code",
   "execution_count": 2,
   "metadata": {},
   "outputs": [],
   "source": [
    "completion = await client.chat.completions.create(\n",
    "    model=\"glm-4-flash\",\n",
    "    messages=[\n",
    "        {\"role\": \"system\", \"content\": \"你是一个聪明且富有创造力的小说作家\"},\n",
    "        {\"role\": \"user\", \"content\": \"请你作为童话故事大王，写一篇短篇童话故事，故事的主题是要永远保持一颗善良的心，要能够激发儿童的学习兴趣和想象力，同时也能够帮助儿童更好地理解和接受故事中所蕴含的道理和价值观。\"}\n",
    "        ],\n",
    "    top_p=0.7,\n",
    "    temperature=0.9,\n",
    "    max_tokens=100\n",
    ")\n"
   ]
  },
  {
   "cell_type": "code",
   "execution_count": 3,
   "metadata": {},
   "outputs": [
    {
     "data": {
      "text/plain": [
       "'故事标题：《小兔子的魔法花盆》\\n\\n从前，在一个遥远的森林里，住着一只可爱的小兔子，名叫艾米。艾米不仅长得漂亮，而且非常善良。她总是乐于助人，无论是对待朋友还是对待森林里的动植物。\\n\\n有一天，艾米在森林里闲逛时，发现了一片奇异的花海。这些花朵五颜六色，散发着迷人的香气，仿佛是来自另一个世界的魔法花园。艾米被这美景'"
      ]
     },
     "execution_count": 3,
     "metadata": {},
     "output_type": "execute_result"
    }
   ],
   "source": [
    "completion.choices[0].message.content"
   ]
  },
  {
   "cell_type": "code",
   "execution_count": 1,
   "metadata": {},
   "outputs": [
    {
     "data": {
      "text/plain": [
       "<generator object search at 0x000002C6285AC400>"
      ]
     },
     "execution_count": 1,
     "metadata": {},
     "output_type": "execute_result"
    }
   ],
   "source": [
    "import googlesearch\n",
    "from googlesearch import search\n",
    "\n",
    "search(\"Python\", num_results=10)"
   ]
  },
  {
   "cell_type": "code",
   "execution_count": null,
   "metadata": {},
   "outputs": [],
   "source": []
  },
  {
   "cell_type": "markdown",
   "metadata": {},
   "source": [
    "financeManus:\n",
    "1、搭建Agent框架（LLM-->Base Agent-->ReAct Agent-->ToolCall Agent-->financeManus)\n",
    "2、设计工具"
   ]
  }
 ],
 "metadata": {
  "kernelspec": {
   "display_name": "Manus",
   "language": "python",
   "name": "python3"
  },
  "language_info": {
   "codemirror_mode": {
    "name": "ipython",
    "version": 3
   },
   "file_extension": ".py",
   "mimetype": "text/x-python",
   "name": "python",
   "nbconvert_exporter": "python",
   "pygments_lexer": "ipython3",
   "version": "3.11.11"
  }
 },
 "nbformat": 4,
 "nbformat_minor": 2
}
